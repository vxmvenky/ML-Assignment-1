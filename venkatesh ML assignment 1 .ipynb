{
  "nbformat": 4,
  "nbformat_minor": 0,
  "metadata": {
    "colab": {
      "provenance": []
    },
    "kernelspec": {
      "name": "python3",
      "display_name": "Python 3"
    },
    "language_info": {
      "name": "python"
    }
  },
  "cells": [
    {
      "cell_type": "code",
      "execution_count": 1,
      "metadata": {
        "colab": {
          "base_uri": "https://localhost:8080/"
        },
        "id": "X56Ic3fImBBS",
        "outputId": "633466a0-9bf9-4d37-d3a0-c114fb324a1d"
      },
      "outputs": [
        {
          "output_type": "stream",
          "name": "stdout",
          "text": [
            "Sorted ages: [19, 19, 19, 20, 22, 24, 24, 24, 25, 25, 26, 26]\n",
            "Min age: 19\n",
            "Max age: 26\n",
            "Median age: 24.0\n",
            "Average age: 22.75\n",
            "Range of ages: 7\n"
          ]
        }
      ],
      "source": [
        "# List of ages\n",
        "ages = [19, 22, 19, 24, 20, 25, 26, 24, 25, 24]\n",
        "\n",
        "# Sorting the list\n",
        "ages.sort()\n",
        "\n",
        "# Finding the min and max age\n",
        "min_age = ages[0]\n",
        "max_age = ages[-1]\n",
        "\n",
        "# Adding the min age and the max age again to the list\n",
        "ages.append(min_age)\n",
        "ages.append(max_age)\n",
        "\n",
        "# Sort the list again after adding min and max ages\n",
        "ages.sort()\n",
        "\n",
        "# Find the median age\n",
        "n = len(ages)\n",
        "if n % 2 == 0:\n",
        "    median_age = (ages[n//2 - 1] + ages[n//2]) / 2\n",
        "else:\n",
        "    median_age = ages[n//2]\n",
        "\n",
        "# Find the average age\n",
        "average_age = sum(ages) / n\n",
        "\n",
        "# Find the range of the ages\n",
        "age_range = max_age - min_age\n",
        "\n",
        "# Print outputs\n",
        "print(f\"Sorted ages: {ages}\")\n",
        "print(f\"Min age: {min_age}\")\n",
        "print(f\"Max age: {max_age}\")\n",
        "print(f\"Median age: {median_age}\")\n",
        "print(f\"Average age: {average_age:.2f}\")\n",
        "print(f\"Range of ages: {age_range}\")"
      ]
    },
    {
      "cell_type": "code",
      "source": [
        "# Create an empty dictionary called dog\n",
        "dog = {}\n",
        "\n",
        "# Add name, color, breed, legs, age to the dog dictionary\n",
        "dog['name'] = 'Buddy'\n",
        "dog['color'] = 'Brown'\n",
        "dog['breed'] = 'Labrador'\n",
        "dog['legs'] = 4\n",
        "dog['age'] = 3\n",
        "\n",
        "# Print the dog dictionary\n",
        "print(\"Dog Dictionary:\", dog)\n",
        "\n",
        "# Create a student dictionary\n",
        "student = {\n",
        "    'first_name': 'John',\n",
        "    'last_name': 'Doe',\n",
        "    'gender': 'Male',\n",
        "    'age': 20,\n",
        "    'marital_status': 'Single',\n",
        "    'skills': ['Python', 'Java'],\n",
        "    'country': 'USA',\n",
        "    'city': 'New York',\n",
        "    'address': '123 Main St'\n",
        "}\n",
        "\n",
        "# Get the length of the student dictionary\n",
        "student_length = len(student)\n",
        "print(\"Length of student dictionary:\", student_length)\n",
        "\n",
        "# Get the value of skills and check the data type\n",
        "skills = student['skills']\n",
        "skills_type = type(skills)\n",
        "print(\"Skills:\", skills)\n",
        "print(\"Type of skills:\", skills_type)\n",
        "\n",
        "# Modify the skills values by adding one or two skills\n",
        "student['skills'].append('C++')\n",
        "student['skills'].append('SQL')\n",
        "\n",
        "# Print the modified skills\n",
        "print(\"Modified skills:\", student['skills'])\n",
        "\n",
        "# Get the dictionary keys as a list\n",
        "student_keys = list(student.keys())\n",
        "print(\"Student dictionary keys:\", student_keys)\n",
        "\n",
        "# Get the dictionary values as a list\n",
        "student_values = list(student.values())\n",
        "print(\"Student dictionary values:\", student_values)"
      ],
      "metadata": {
        "colab": {
          "base_uri": "https://localhost:8080/"
        },
        "collapsed": true,
        "id": "l747Fh3Bo3j8",
        "outputId": "4556202b-afc9-4dc7-9835-e904415cc1a0"
      },
      "execution_count": 2,
      "outputs": [
        {
          "output_type": "stream",
          "name": "stdout",
          "text": [
            "Dog Dictionary: {'name': 'Buddy', 'color': 'Brown', 'breed': 'Labrador', 'legs': 4, 'age': 3}\n",
            "Length of student dictionary: 9\n",
            "Skills: ['Python', 'Java']\n",
            "Type of skills: <class 'list'>\n",
            "Modified skills: ['Python', 'Java', 'C++', 'SQL']\n",
            "Student dictionary keys: ['first_name', 'last_name', 'gender', 'age', 'marital_status', 'skills', 'country', 'city', 'address']\n",
            "Student dictionary values: ['John', 'Doe', 'Male', 20, 'Single', ['Python', 'Java', 'C++', 'SQL'], 'USA', 'New York', '123 Main St']\n"
          ]
        }
      ]
    },
    {
      "cell_type": "code",
      "source": [
        "# Create tuples containing names of sisters and brothers\n",
        "sisters = ('Anna', 'Betty', 'Clara')\n",
        "brothers = ('David', 'Evan', 'Frank')\n",
        "\n",
        "# Join brothers and sisters tuples and assign it to siblings\n",
        "siblings = sisters + brothers\n",
        "\n",
        "# Print the siblings tuple\n",
        "print(\"Siblings:\", siblings)\n",
        "\n",
        "# Count the number of siblings\n",
        "num_siblings = len(siblings)\n",
        "print(\"Number of siblings:\", num_siblings)\n",
        "\n",
        "# Modify the siblings tuple and add the names of father and mother\n",
        "family_members = siblings + ('John', 'Jane')\n",
        "\n",
        "# Print the family members tuple\n",
        "print(\"Family members:\", family_members)"
      ],
      "metadata": {
        "colab": {
          "base_uri": "https://localhost:8080/"
        },
        "id": "5D4XHkPTpxYs",
        "outputId": "553fd825-91bc-49f5-ec72-965ff8672ab5"
      },
      "execution_count": 3,
      "outputs": [
        {
          "output_type": "stream",
          "name": "stdout",
          "text": [
            "Siblings: ('Anna', 'Betty', 'Clara', 'David', 'Evan', 'Frank')\n",
            "Number of siblings: 6\n",
            "Family members: ('Anna', 'Betty', 'Clara', 'David', 'Evan', 'Frank', 'John', 'Jane')\n"
          ]
        }
      ]
    },
    {
      "cell_type": "code",
      "source": [
        "# Given sets and list\n",
        "it_companies = {'Facebook', 'Google', 'Microsoft', 'Apple', 'IBM', 'Oracle', 'Amazon'}\n",
        "A = {19, 22, 24, 20, 25, 26}\n",
        "B = {19, 22, 20, 25, 26, 24, 28, 27}\n",
        "age = [22, 19, 24, 25, 26, 24, 25, 24]\n",
        "\n",
        "# Find the length of the set it_companies\n",
        "length_it_companies = len(it_companies)\n",
        "print(\"Length of it_companies:\", length_it_companies)\n",
        "\n",
        "# Add 'Twitter' to it_companies\n",
        "it_companies.add('Twitter')\n",
        "print(\"it_companies after adding 'Twitter':\", it_companies)\n",
        "\n",
        "# Insert multiple IT companies at once to the set it_companies\n",
        "it_companies.update(['Netflix', 'Spotify', 'Adobe'])\n",
        "print(\"it_companies after adding multiple companies:\", it_companies)\n",
        "\n",
        "# Remove one of the companies from the set it_companies\n",
        "it_companies.remove('Adobe')\n",
        "print(\"it_companies after removing 'Adobe':\", it_companies)\n",
        "\n",
        "# Difference between remove and discard\n",
        "# - remove() will raise a KeyError if the item is not found in the set\n",
        "# - discard() will not raise an error if the item is not found in the set\n",
        "\n",
        "# Join A and B\n",
        "A_union_B = A.union(B)\n",
        "print(\"A union B:\", A_union_B)\n",
        "\n",
        "# Find A intersection B\n",
        "A_intersection_B = A.intersection(B)\n",
        "print(\"A intersection B:\", A_intersection_B)\n",
        "\n",
        "# Is A subset of B\n",
        "is_A_subset_B = A.issubset(B)\n",
        "print(\"Is A subset of B:\", is_A_subset_B)\n",
        "\n",
        "# Are A and B disjoint sets\n",
        "are_A_B_disjoint = A.isdisjoint(B)\n",
        "print(\"Are A and B disjoint sets:\", are_A_B_disjoint)\n",
        "\n",
        "# Join A with B and B with A\n",
        "A_join_B = A.union(B)\n",
        "B_join_A = B.union(A)\n",
        "print(\"A joined with B:\", A_join_B)\n",
        "print(\"B joined with A:\", B_join_A)\n",
        "\n",
        "# What is the symmetric difference between A and B\n",
        "A_symmetric_difference_B = A.symmetric_difference(B)\n",
        "print(\"Symmetric difference between A and B:\", A_symmetric_difference_B)\n",
        "\n",
        "# Delete the sets completely\n",
        "del A\n",
        "del B\n",
        "print(\"Sets A and B deleted.\")\n",
        "\n",
        "# Convert the ages to a set and compare the length of the list and the set\n",
        "age_set = set(age)\n",
        "print(\"Age list length:\", len(age))\n",
        "print(\"Age set length:\", len(age_set))"
      ],
      "metadata": {
        "colab": {
          "base_uri": "https://localhost:8080/"
        },
        "id": "0cCJZ94aqtkM",
        "outputId": "fbd18667-4452-4147-9e27-a81db5099513"
      },
      "execution_count": 4,
      "outputs": [
        {
          "output_type": "stream",
          "name": "stdout",
          "text": [
            "Length of it_companies: 7\n",
            "it_companies after adding 'Twitter': {'Facebook', 'Google', 'Microsoft', 'IBM', 'Oracle', 'Twitter', 'Amazon', 'Apple'}\n",
            "it_companies after adding multiple companies: {'IBM', 'Netflix', 'Facebook', 'Microsoft', 'Oracle', 'Amazon', 'Apple', 'Spotify', 'Google', 'Adobe', 'Twitter'}\n",
            "it_companies after removing 'Adobe': {'IBM', 'Netflix', 'Facebook', 'Microsoft', 'Oracle', 'Amazon', 'Apple', 'Spotify', 'Google', 'Twitter'}\n",
            "A union B: {19, 20, 22, 24, 25, 26, 27, 28}\n",
            "A intersection B: {19, 20, 22, 24, 25, 26}\n",
            "Is A subset of B: True\n",
            "Are A and B disjoint sets: False\n",
            "A joined with B: {19, 20, 22, 24, 25, 26, 27, 28}\n",
            "B joined with A: {19, 20, 22, 24, 25, 26, 27, 28}\n",
            "Symmetric difference between A and B: {27, 28}\n",
            "Sets A and B deleted.\n",
            "Age list length: 8\n",
            "Age set length: 5\n"
          ]
        }
      ]
    },
    {
      "cell_type": "code",
      "source": [
        "# Given sentence\n",
        "sentence = \"I am a teacher and I love to inspire and teach people\"\n",
        "\n",
        "# Split the sentence into words\n",
        "words = sentence.split()\n",
        "\n",
        "# Convert the list of words to a set to get unique words\n",
        "unique_words = set(words)\n",
        "\n",
        "# Find the number of unique words\n",
        "num_unique_words = len(unique_words)\n",
        "\n",
        "# Print the unique words and their count\n",
        "print(\"Unique words:\", unique_words)\n",
        "print(\"Number of unique words:\", num_unique_words)"
      ],
      "metadata": {
        "colab": {
          "base_uri": "https://localhost:8080/"
        },
        "id": "oibVCUKa-o_l",
        "outputId": "b0a8410e-28a5-40e5-f688-f99f9aa056ea"
      },
      "execution_count": 5,
      "outputs": [
        {
          "output_type": "stream",
          "name": "stdout",
          "text": [
            "Unique words: {'and', 'people', 'am', 'love', 'to', 'inspire', 'I', 'teach', 'a', 'teacher'}\n",
            "Number of unique words: 10\n"
          ]
        }
      ]
    },
    {
      "cell_type": "code",
      "source": [
        "# Print the header using tab escape sequences\n",
        "print(\"Name\\tAge\\tCountry\\tCity\")\n",
        "\n",
        "# Print the details using tab escape sequences\n",
        "print(\"Asabeneh\\t250\\tFinland\\tHelsinki\")"
      ],
      "metadata": {
        "colab": {
          "base_uri": "https://localhost:8080/"
        },
        "id": "KDTUpn2R_YC-",
        "outputId": "9842b427-d1e6-4bf8-b80f-37acec6977e3"
      },
      "execution_count": 6,
      "outputs": [
        {
          "output_type": "stream",
          "name": "stdout",
          "text": [
            "Name\tAge\tCountry\tCity\n",
            "Asabeneh\t250\tFinland\tHelsinki\n"
          ]
        }
      ]
    },
    {
      "cell_type": "code",
      "source": [
        "# Given radius\n",
        "radius = 10\n",
        "\n",
        "# Calculate the area of the circle\n",
        "area = 3.14 * radius ** 2\n",
        "\n",
        "# Use string formatting to display the message\n",
        "message = \"The area of a circle with radius {} is {:.2f} meters square.\".format(radius, area)\n",
        "\n",
        "# Print the message\n",
        "print(message)"
      ],
      "metadata": {
        "colab": {
          "base_uri": "https://localhost:8080/"
        },
        "id": "-_yFltLWBFDO",
        "outputId": "dcee492e-4661-4863-d81c-0ca3a0943a8c"
      },
      "execution_count": 7,
      "outputs": [
        {
          "output_type": "stream",
          "name": "stdout",
          "text": [
            "The area of a circle with radius 10 is 314.00 meters square.\n"
          ]
        }
      ]
    },
    {
      "cell_type": "code",
      "source": [
        "def lbs_to_kg(weight_lbs):\n",
        "    return round(weight_lbs * 0.453592, 2)\n",
        "\n",
        "# Read the number of students\n",
        "N = int(input(\"Enter the number of students: \"))\n",
        "\n",
        "# Initialize an empty list to store weights in pounds\n",
        "weights_lbs = []\n",
        "\n",
        "# Read the weights in pounds from the user\n",
        "for i in range(N):\n",
        "    weight = float(input(f\"Enter the weight of student {i+1} in pounds: \"))\n",
        "    weights_lbs.append(weight)\n",
        "\n",
        "# Convert the weights to kilograms and store them in a separate list\n",
        "weights_kg = [lbs_to_kg(weight) for weight in weights_lbs]\n",
        "\n",
        "# Print the original weights in pounds\n",
        "print(\"Weights in pounds:\", weights_lbs)\n",
        "\n",
        "# Print the converted weights in kilograms\n",
        "print(\"Weights in kilograms:\", weights_kg)"
      ],
      "metadata": {
        "colab": {
          "base_uri": "https://localhost:8080/"
        },
        "id": "c-2TN2OFDIA5",
        "outputId": "3dfaa526-993a-47aa-c283-2fbd6a468710"
      },
      "execution_count": 8,
      "outputs": [
        {
          "output_type": "stream",
          "name": "stdout",
          "text": [
            "Enter the number of students: 5\n",
            "Enter the weight of student 1 in pounds: 65\n",
            "Enter the weight of student 2 in pounds: 70\n",
            "Enter the weight of student 3 in pounds: 80\n",
            "Enter the weight of student 4 in pounds: 90\n",
            "Enter the weight of student 5 in pounds: 100\n",
            "Weights in pounds: [65.0, 70.0, 80.0, 90.0, 100.0]\n",
            "Weights in kilograms: [29.48, 31.75, 36.29, 40.82, 45.36]\n"
          ]
        }
      ]
    }
  ]
}